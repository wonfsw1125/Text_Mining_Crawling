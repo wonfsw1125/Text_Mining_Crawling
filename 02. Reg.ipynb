{
 "cells": [
  {
   "cell_type": "markdown",
   "metadata": {},
   "source": [
    "### 정규표현식(Regular Expression)이란?\n",
    "\n",
    "- 특정 조건을 가진 문자열을 선언하기 위한 도구\n",
    "- 파이썬이 아닌 다른 코딩 언어에서도 정규표현식을 사용함"
   ]
  },
  {
   "cell_type": "markdown",
   "metadata": {},
   "source": [
    "### 정규표현식 기본 함수"
   ]
  },
  {
   "cell_type": "code",
   "execution_count": null,
   "metadata": {},
   "outputs": [],
   "source": []
  },
  {
   "cell_type": "code",
   "execution_count": null,
   "metadata": {},
   "outputs": [],
   "source": [
    "import re"
   ]
  },
  {
   "cell_type": "code",
   "execution_count": 15,
   "metadata": {},
   "outputs": [
    {
     "data": {
      "text/plain": [
       "re.compile(r'배고파', re.UNICODE)"
      ]
     },
     "execution_count": 15,
     "metadata": {},
     "output_type": "execute_result"
    }
   ],
   "source": [
    "a = re.compile(\"배고파\")\n",
    "a"
   ]
  },
  {
   "cell_type": "code",
   "execution_count": 17,
   "metadata": {},
   "outputs": [
    {
     "data": {
      "text/plain": [
       "<re.Match object; span=(0, 3), match='배고파'>"
      ]
     },
     "execution_count": 17,
     "metadata": {},
     "output_type": "execute_result"
    }
   ],
   "source": [
    "a.match(\"배고파\")"
   ]
  },
  {
   "cell_type": "code",
   "execution_count": 19,
   "metadata": {},
   "outputs": [],
   "source": [
    "a.match(\"배아파\") # 맨 앞에만 찾을 수 있음"
   ]
  },
  {
   "cell_type": "markdown",
   "metadata": {},
   "source": [
    "### 정규표현식 기본 문법 1\n",
    "\n",
    "1. \\d : 모든 숫자\n",
    "2. \\D : 숫자가 아닌 것\n",
    "3. \\s : 공백\n",
    "4. \\S : 공백이 아닌것\n",
    "5. \\w : 알파벳 및 숫자\n",
    "6. \\W : 알파벳도, 숫자도 아닌 것"
   ]
  },
  {
   "cell_type": "code",
   "execution_count": 21,
   "metadata": {},
   "outputs": [
    {
     "data": {
      "text/plain": [
       "['배고파', '배고파']"
      ]
     },
     "execution_count": 21,
     "metadata": {},
     "output_type": "execute_result"
    }
   ],
   "source": [
    "a.findall(\"아이 배고파 정말 배고파\") # 맨 앞이 아니여도 찾을 수 있음"
   ]
  },
  {
   "cell_type": "code",
   "execution_count": 22,
   "metadata": {},
   "outputs": [
    {
     "data": {
      "text/plain": [
       "<re.Match object; span=(3, 6), match='배고파'>"
      ]
     },
     "execution_count": 22,
     "metadata": {},
     "output_type": "execute_result"
    }
   ],
   "source": [
    "a.search(\"아이 배고파 정말 배고파\") # 하나만 찾고 싶은데 "
   ]
  },
  {
   "cell_type": "code",
   "execution_count": 7,
   "metadata": {},
   "outputs": [
    {
     "data": {
      "text/plain": [
       "<re.Match object; span=(0, 1), match='1'>"
      ]
     },
     "execution_count": 7,
     "metadata": {},
     "output_type": "execute_result"
    }
   ],
   "source": [
    "b = re.compile(\"\\d\")\n",
    "b.match(\"123\")"
   ]
  },
  {
   "cell_type": "code",
   "execution_count": 8,
   "metadata": {},
   "outputs": [
    {
     "data": {
      "text/plain": [
       "['1', '2', '3']"
      ]
     },
     "execution_count": 8,
     "metadata": {},
     "output_type": "execute_result"
    }
   ],
   "source": [
    "b.findall(\"123\")"
   ]
  },
  {
   "cell_type": "markdown",
   "metadata": {},
   "source": [
    "### 정규표현식 기본 문법2\n",
    "\n",
    "1. .: 모든 것\n",
    "2. *:  0번 이상 반복\n",
    "3. +: 1번 이상 반복\n",
    "4. {m}: m번 반복\n",
    "5. {m,n}: m번 이상, n번 이하 반복\n",
    "6. ?: 있어도 되고, 없어도 됨"
   ]
  },
  {
   "cell_type": "code",
   "execution_count": 25,
   "metadata": {},
   "outputs": [
    {
     "name": "stdout",
     "output_type": "stream",
     "text": [
      "<re.Match object; span=(0, 3), match='배고파'>\n",
      "<re.Match object; span=(0, 3), match='배아파'>\n"
     ]
    }
   ],
   "source": [
    "c = re.compile(\"배.파\")\n",
    "print(c.match(\"배고파\"))\n",
    "print(c.match(\"배아파\"))"
   ]
  },
  {
   "cell_type": "code",
   "execution_count": 26,
   "metadata": {},
   "outputs": [
    {
     "name": "stdout",
     "output_type": "stream",
     "text": [
      "<re.Match object; span=(0, 2), match='배파'>\n",
      "<re.Match object; span=(0, 3), match='배고파'>\n",
      "<re.Match object; span=(0, 4), match='배고고파'>\n"
     ]
    }
   ],
   "source": [
    "c = re.compile(\"배고*파\")\n",
    "print(c.match(\"배파\"))\n",
    "print(c.match(\"배고파\"))\n",
    "print(c.match(\"배고고파\"))"
   ]
  },
  {
   "cell_type": "code",
   "execution_count": 27,
   "metadata": {},
   "outputs": [
    {
     "name": "stdout",
     "output_type": "stream",
     "text": [
      "None\n",
      "<re.Match object; span=(0, 3), match='배고파'>\n",
      "<re.Match object; span=(0, 4), match='배고고파'>\n"
     ]
    }
   ],
   "source": [
    "c = re.compile(\"배고+파\")\n",
    "print(c.match(\"배파\"))\n",
    "print(c.match(\"배고파\"))\n",
    "print(c.match(\"배고고파\"))"
   ]
  },
  {
   "cell_type": "code",
   "execution_count": 28,
   "metadata": {},
   "outputs": [
    {
     "name": "stdout",
     "output_type": "stream",
     "text": [
      "None\n",
      "None\n",
      "<re.Match object; span=(0, 4), match='배고고파'>\n"
     ]
    }
   ],
   "source": [
    "c = re.compile(\"배고{2}파\")\n",
    "print(c.match(\"배파\"))\n",
    "print(c.match(\"배고파\"))\n",
    "print(c.match(\"배고고파\"))"
   ]
  },
  {
   "cell_type": "code",
   "execution_count": 31,
   "metadata": {},
   "outputs": [
    {
     "name": "stdout",
     "output_type": "stream",
     "text": [
      "None\n",
      "<re.Match object; span=(0, 3), match='배고파'>\n",
      "<re.Match object; span=(0, 4), match='배고고파'>\n"
     ]
    }
   ],
   "source": [
    "c = re.compile(\"배고{1,2}파\")\n",
    "print(c.match(\"배파\"))\n",
    "print(c.match(\"배고파\"))\n",
    "print(c.match(\"배고고파\"))"
   ]
  },
  {
   "cell_type": "code",
   "execution_count": 32,
   "metadata": {},
   "outputs": [
    {
     "name": "stdout",
     "output_type": "stream",
     "text": [
      "<re.Match object; span=(0, 2), match='배파'>\n",
      "<re.Match object; span=(0, 3), match='배고파'>\n",
      "None\n"
     ]
    }
   ],
   "source": [
    "c = re.compile(\"배고?파\")\n",
    "print(c.match(\"배파\"))\n",
    "print(c.match(\"배고파\"))\n",
    "print(c.match(\"배고고파\"))"
   ]
  },
  {
   "cell_type": "markdown",
   "metadata": {},
   "source": [
    "### 그러면 진짜 ?를 지칭하고 싶을 땐?\n",
    "- \\?를 사용하자!"
   ]
  },
  {
   "cell_type": "code",
   "execution_count": 33,
   "metadata": {},
   "outputs": [
    {
     "name": "stdout",
     "output_type": "stream",
     "text": [
      "None\n",
      "None\n",
      "None\n",
      "<re.Match object; span=(0, 4), match='배고?파'>\n"
     ]
    }
   ],
   "source": [
    "c = re.compile(\"배고\\?파\")\n",
    "print(c.match(\"배파\"))\n",
    "print(c.match(\"배고파\"))\n",
    "print(c.match(\"배고고파\"))\n",
    "print(c.match(\"배고?파\"))"
   ]
  },
  {
   "cell_type": "markdown",
   "metadata": {},
   "source": [
    "### 그러면 2개 이상이 반복되는 것을 지칭하고 싶을 땐?\n",
    "- 괄호를 사용하자!"
   ]
  },
  {
   "cell_type": "code",
   "execution_count": 39,
   "metadata": {},
   "outputs": [
    {
     "name": "stdout",
     "output_type": "stream",
     "text": [
      "<re.Match object; span=(0, 2), match='배파'>\n",
      "<re.Match object; span=(0, 3), match='배고파'>\n",
      "<re.Match object; span=(0, 5), match='배고파고파'>\n"
     ]
    }
   ],
   "source": [
    "# \"고\" 혹은 \"파\"가 등장할 경우 반응\n",
    "\n",
    "c = re.compile(\"배[고파]+\")\n",
    "print(c.match(\"배파\"))\n",
    "print(c.match(\"배고파\"))\n",
    "print(c.match(\"배고파고파\"))"
   ]
  },
  {
   "cell_type": "code",
   "execution_count": 40,
   "metadata": {},
   "outputs": [
    {
     "name": "stdout",
     "output_type": "stream",
     "text": [
      "None\n",
      "<re.Match object; span=(0, 3), match='배고파'>\n",
      "<re.Match object; span=(0, 5), match='배고파고파'>\n"
     ]
    }
   ],
   "source": [
    "# \"고파\"가 등장할 경우 반응\n",
    "\n",
    "c = re.compile(\"배(고파)+\")\n",
    "print(c.match(\"배파\"))\n",
    "print(c.match(\"배고파\"))\n",
    "print(c.match(\"배고파고파\"))"
   ]
  },
  {
   "cell_type": "markdown",
   "metadata": {},
   "source": [
    "### 괄호의 활용법\n",
    "\n",
    "1. ^:여집합\n",
    "2. -:구간"
   ]
  },
  {
   "cell_type": "code",
   "execution_count": 42,
   "metadata": {},
   "outputs": [
    {
     "name": "stdout",
     "output_type": "stream",
     "text": [
      "None\n",
      "None\n",
      "<re.Match object; span=(0, 2), match='배아'>\n"
     ]
    }
   ],
   "source": [
    "c = re.compile(\"배[^고파]\")\n",
    "print(c.match(\"배파\"))\n",
    "print(c.match(\"배고파\"))\n",
    "print(c.match(\"배아파\"))"
   ]
  },
  {
   "cell_type": "code",
   "execution_count": 43,
   "metadata": {},
   "outputs": [
    {
     "name": "stdout",
     "output_type": "stream",
     "text": [
      "<re.Match object; span=(0, 1), match='1'>\n",
      "<re.Match object; span=(0, 1), match='2'>\n",
      "None\n"
     ]
    }
   ],
   "source": [
    "c = re.compile(\"[0-9]\")\n",
    "print(c.match(\"1\"))\n",
    "print(c.match(\"2\"))\n",
    "print(c.match(\"배아파\"))"
   ]
  },
  {
   "cell_type": "code",
   "execution_count": 44,
   "metadata": {},
   "outputs": [
    {
     "name": "stdout",
     "output_type": "stream",
     "text": [
      "None\n",
      "None\n",
      "<re.Match object; span=(0, 1), match='배'>\n"
     ]
    }
   ],
   "source": [
    "c = re.compile(\"[^0-9]\")\n",
    "print(c.match(\"1\"))\n",
    "print(c.match(\"2\"))\n",
    "print(c.match(\"배아파\"))"
   ]
  },
  {
   "cell_type": "code",
   "execution_count": 47,
   "metadata": {},
   "outputs": [
    {
     "name": "stdout",
     "output_type": "stream",
     "text": [
      "<re.Match object; span=(0, 1), match='a'>\n",
      "None\n",
      "None\n"
     ]
    }
   ],
   "source": [
    "c = re.compile(\"[a-z]\")\n",
    "print(c.match(\"a\"))\n",
    "print(c.match(\"A\"))\n",
    "print(c.match(\"배아파\"))"
   ]
  },
  {
   "cell_type": "code",
   "execution_count": 49,
   "metadata": {},
   "outputs": [
    {
     "name": "stdout",
     "output_type": "stream",
     "text": [
      "None\n",
      "<re.Match object; span=(0, 1), match='A'>\n",
      "None\n"
     ]
    }
   ],
   "source": [
    "c = re.compile(\"[A-Z]\")\n",
    "print(c.match(\"a\"))\n",
    "print(c.match(\"A\"))\n",
    "print(c.match(\"배아파\"))"
   ]
  },
  {
   "cell_type": "code",
   "execution_count": 50,
   "metadata": {},
   "outputs": [
    {
     "name": "stdout",
     "output_type": "stream",
     "text": [
      "<re.Match object; span=(0, 1), match='a'>\n",
      "<re.Match object; span=(0, 1), match='A'>\n",
      "None\n"
     ]
    }
   ],
   "source": [
    "c = re.compile(\"[A-Za-z]\")\n",
    "print(c.match(\"a\"))\n",
    "print(c.match(\"A\"))\n",
    "print(c.match(\"배아파\"))"
   ]
  },
  {
   "cell_type": "code",
   "execution_count": 51,
   "metadata": {},
   "outputs": [
    {
     "name": "stdout",
     "output_type": "stream",
     "text": [
      "<re.Match object; span=(0, 1), match='a'>\n",
      "<re.Match object; span=(0, 1), match='A'>\n",
      "<re.Match object; span=(0, 1), match='1'>\n"
     ]
    }
   ],
   "source": [
    "c = re.compile(\"[A-Za-z0-9]\")\n",
    "print(c.match(\"a\"))\n",
    "print(c.match(\"A\"))\n",
    "print(c.match(\"1\"))"
   ]
  },
  {
   "cell_type": "markdown",
   "metadata": {},
   "source": [
    "### Quiz: 정규표현식으로 이메일 주소를 구분해보자."
   ]
  },
  {
   "cell_type": "code",
   "execution_count": 53,
   "metadata": {},
   "outputs": [
    {
     "data": {
      "text/plain": [
       "<re.Match object; span=(0, 21), match='newdlckdgus@gmail.com'>"
      ]
     },
     "execution_count": 53,
     "metadata": {},
     "output_type": "execute_result"
    }
   ],
   "source": [
    "k = re.compile(\"[A-Za-z0-9]+@[A-Za-z0-9]+\\.com\")\n",
    "k.match(\"newdlckdgus@gmail.com\")"
   ]
  },
  {
   "cell_type": "markdown",
   "metadata": {},
   "source": [
    "### 고급 문법"
   ]
  },
  {
   "cell_type": "code",
   "execution_count": 59,
   "metadata": {},
   "outputs": [
    {
     "name": "stdout",
     "output_type": "stream",
     "text": [
      "<re.Match object; span=(0, 2), match='사과'>\n",
      "<re.Match object; span=(0, 1), match='배'>\n",
      "<re.Match object; span=(0, 2), match='사과'>\n"
     ]
    }
   ],
   "source": [
    "c = re.compile(\"사과|배\")\n",
    "print(c.match(\"사과\"))\n",
    "print(c.match(\"배\"))\n",
    "print(c.match(\"사과와 배\"))"
   ]
  },
  {
   "cell_type": "code",
   "execution_count": 60,
   "metadata": {},
   "outputs": [
    {
     "data": {
      "text/plain": [
       "<re.Match object; span=(0, 23), match='newdlckdgus@yahoo.co.kr'>"
      ]
     },
     "execution_count": 60,
     "metadata": {},
     "output_type": "execute_result"
    }
   ],
   "source": [
    "k = re.compile(\"[A-Za-z0-9]+@[A-Za-z0-9]+\\.com|[A-Za-z0-9]+@[A-Za-z0-9]+\\.co\\.kr\")\n",
    "k.match(\"newdlckdgus@yahoo.co.kr\")"
   ]
  }
 ],
 "metadata": {
  "kernelspec": {
   "display_name": "Python 3 (ipykernel)",
   "language": "python",
   "name": "python3"
  },
  "language_info": {
   "codemirror_mode": {
    "name": "ipython",
    "version": 3
   },
   "file_extension": ".py",
   "mimetype": "text/x-python",
   "name": "python",
   "nbconvert_exporter": "python",
   "pygments_lexer": "ipython3",
   "version": "3.9.13"
  }
 },
 "nbformat": 4,
 "nbformat_minor": 4
}
